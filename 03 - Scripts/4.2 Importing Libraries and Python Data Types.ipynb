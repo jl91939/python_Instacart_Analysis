{
 "cells": [
  {
   "cell_type": "markdown",
   "id": "9437296c",
   "metadata": {},
   "source": [
    "# 01. Importing Libraries"
   ]
  },
  {
   "cell_type": "code",
   "execution_count": 1,
   "id": "7be51e89",
   "metadata": {},
   "outputs": [],
   "source": [
    "#Import libraries\n",
    "import pandas as pd\n",
    "import numpy as np\n",
    "import os"
   ]
  },
  {
   "cell_type": "code",
   "execution_count": null,
   "id": "a2e67da6",
   "metadata": {},
   "outputs": [],
   "source": [
    "This is cool"
   ]
  },
  {
   "cell_type": "markdown",
   "id": "94235740",
   "metadata": {},
   "source": [
    "# 02. Data Types"
   ]
  },
  {
   "cell_type": "code",
   "execution_count": 2,
   "id": "f605d2b5",
   "metadata": {},
   "outputs": [],
   "source": [
    "x = 2"
   ]
  },
  {
   "cell_type": "code",
   "execution_count": 3,
   "id": "b11a898d",
   "metadata": {},
   "outputs": [
    {
     "data": {
      "text/plain": [
       "2"
      ]
     },
     "execution_count": 3,
     "metadata": {},
     "output_type": "execute_result"
    }
   ],
   "source": [
    "x"
   ]
  },
  {
   "cell_type": "code",
   "execution_count": 4,
   "id": "9dcbae24",
   "metadata": {},
   "outputs": [
    {
     "name": "stdout",
     "output_type": "stream",
     "text": [
      "2\n"
     ]
    }
   ],
   "source": [
    "print(x)"
   ]
  },
  {
   "cell_type": "code",
   "execution_count": 5,
   "id": "c2d2e9fd",
   "metadata": {},
   "outputs": [
    {
     "data": {
      "text/plain": [
       "int"
      ]
     },
     "execution_count": 5,
     "metadata": {},
     "output_type": "execute_result"
    }
   ],
   "source": [
    "type(x)"
   ]
  },
  {
   "cell_type": "code",
   "execution_count": 6,
   "id": "0b70befe",
   "metadata": {},
   "outputs": [],
   "source": [
    "y = 5.678"
   ]
  },
  {
   "cell_type": "code",
   "execution_count": 7,
   "id": "09e6d1c9",
   "metadata": {},
   "outputs": [
    {
     "data": {
      "text/plain": [
       "float"
      ]
     },
     "execution_count": 7,
     "metadata": {},
     "output_type": "execute_result"
    }
   ],
   "source": [
    "type(y)"
   ]
  },
  {
   "cell_type": "code",
   "execution_count": 8,
   "id": "b34b2f03",
   "metadata": {},
   "outputs": [],
   "source": [
    "z = 'Brazil'"
   ]
  },
  {
   "cell_type": "code",
   "execution_count": 9,
   "id": "3853b6d3",
   "metadata": {},
   "outputs": [
    {
     "data": {
      "text/plain": [
       "str"
      ]
     },
     "execution_count": 9,
     "metadata": {},
     "output_type": "execute_result"
    }
   ],
   "source": [
    "type(z)"
   ]
  },
  {
   "cell_type": "code",
   "execution_count": 10,
   "id": "976e2670",
   "metadata": {},
   "outputs": [
    {
     "ename": "NameError",
     "evalue": "name 'Mania' is not defined",
     "output_type": "error",
     "traceback": [
      "\u001b[1;31m---------------------------------------------------------------------------\u001b[0m",
      "\u001b[1;31mNameError\u001b[0m                                 Traceback (most recent call last)",
      "Cell \u001b[1;32mIn[10], line 1\u001b[0m\n\u001b[1;32m----> 1\u001b[0m \u001b[38;5;28mtype\u001b[39m(Mania)\n",
      "\u001b[1;31mNameError\u001b[0m: name 'Mania' is not defined"
     ]
    }
   ],
   "source": [
    "type(Mania)"
   ]
  },
  {
   "cell_type": "code",
   "execution_count": 11,
   "id": "3b38e22c",
   "metadata": {},
   "outputs": [
    {
     "data": {
      "text/plain": [
       "str"
      ]
     },
     "execution_count": 11,
     "metadata": {},
     "output_type": "execute_result"
    }
   ],
   "source": [
    "type('Mania')"
   ]
  },
  {
   "cell_type": "code",
   "execution_count": 12,
   "id": "78b5941d",
   "metadata": {},
   "outputs": [
    {
     "data": {
      "text/plain": [
       "bool"
      ]
     },
     "execution_count": 12,
     "metadata": {},
     "output_type": "execute_result"
    }
   ],
   "source": [
    "type(True)"
   ]
  },
  {
   "cell_type": "code",
   "execution_count": 13,
   "id": "b9465359",
   "metadata": {},
   "outputs": [
    {
     "data": {
      "text/plain": [
       "bool"
      ]
     },
     "execution_count": 13,
     "metadata": {},
     "output_type": "execute_result"
    }
   ],
   "source": [
    "type(False)"
   ]
  },
  {
   "cell_type": "code",
   "execution_count": 14,
   "id": "6d5025d9",
   "metadata": {},
   "outputs": [
    {
     "name": "stdout",
     "output_type": "stream",
     "text": [
      "2\n"
     ]
    }
   ],
   "source": [
    "print(x)"
   ]
  },
  {
   "cell_type": "code",
   "execution_count": 15,
   "id": "b44b96a4",
   "metadata": {},
   "outputs": [
    {
     "data": {
      "text/plain": [
       "6"
      ]
     },
     "execution_count": 15,
     "metadata": {},
     "output_type": "execute_result"
    }
   ],
   "source": [
    "x + 4"
   ]
  },
  {
   "cell_type": "code",
   "execution_count": 16,
   "id": "cb0041b8",
   "metadata": {},
   "outputs": [],
   "source": [
    "a = 'Hello, '"
   ]
  },
  {
   "cell_type": "code",
   "execution_count": 17,
   "id": "de71f707",
   "metadata": {},
   "outputs": [],
   "source": [
    "b = 'Marley'"
   ]
  },
  {
   "cell_type": "code",
   "execution_count": 18,
   "id": "33346a4e",
   "metadata": {},
   "outputs": [
    {
     "data": {
      "text/plain": [
       "'Hello, Marley'"
      ]
     },
     "execution_count": 18,
     "metadata": {},
     "output_type": "execute_result"
    }
   ],
   "source": [
    "a + b"
   ]
  },
  {
   "cell_type": "code",
   "execution_count": 19,
   "id": "e5d0a592",
   "metadata": {},
   "outputs": [
    {
     "data": {
      "text/plain": [
       "'Hello, MarleyMarleyMarleyMarleyMarleyMarleyMarleyMarley'"
      ]
     },
     "execution_count": 19,
     "metadata": {},
     "output_type": "execute_result"
    }
   ],
   "source": [
    "a + b * 8"
   ]
  },
  {
   "cell_type": "code",
   "execution_count": 20,
   "id": "7ab31a8d",
   "metadata": {},
   "outputs": [
    {
     "data": {
      "text/plain": [
       "False"
      ]
     },
     "execution_count": 20,
     "metadata": {},
     "output_type": "execute_result"
    }
   ],
   "source": [
    "x == y"
   ]
  },
  {
   "cell_type": "code",
   "execution_count": 21,
   "id": "3bdd3189",
   "metadata": {},
   "outputs": [
    {
     "data": {
      "text/plain": [
       "bool"
      ]
     },
     "execution_count": 21,
     "metadata": {},
     "output_type": "execute_result"
    }
   ],
   "source": [
    "type(x == y)"
   ]
  },
  {
   "cell_type": "code",
   "execution_count": 1,
   "id": "8785fae8",
   "metadata": {},
   "outputs": [
    {
     "ename": "NameError",
     "evalue": "name 'x' is not defined",
     "output_type": "error",
     "traceback": [
      "\u001b[1;31m---------------------------------------------------------------------------\u001b[0m",
      "\u001b[1;31mNameError\u001b[0m                                 Traceback (most recent call last)",
      "Cell \u001b[1;32mIn[1], line 1\u001b[0m\n\u001b[1;32m----> 1\u001b[0m x\n",
      "\u001b[1;31mNameError\u001b[0m: name 'x' is not defined"
     ]
    }
   ],
   "source": [
    "x"
   ]
  },
  {
   "cell_type": "code",
   "execution_count": 2,
   "id": "12568f79",
   "metadata": {},
   "outputs": [
    {
     "ename": "NameError",
     "evalue": "name 'x' is not defined",
     "output_type": "error",
     "traceback": [
      "\u001b[1;31m---------------------------------------------------------------------------\u001b[0m",
      "\u001b[1;31mNameError\u001b[0m                                 Traceback (most recent call last)",
      "Cell \u001b[1;32mIn[2], line 1\u001b[0m\n\u001b[1;32m----> 1\u001b[0m x \u001b[38;5;241m+\u001b[39m \u001b[38;5;241m98\u001b[39m\n",
      "\u001b[1;31mNameError\u001b[0m: name 'x' is not defined"
     ]
    }
   ],
   "source": [
    "x + 98"
   ]
  },
  {
   "cell_type": "code",
   "execution_count": 3,
   "id": "3591f56f",
   "metadata": {},
   "outputs": [],
   "source": [
    "x = 95"
   ]
  },
  {
   "cell_type": "code",
   "execution_count": 4,
   "id": "cca71a42",
   "metadata": {},
   "outputs": [
    {
     "data": {
      "text/plain": [
       "100"
      ]
     },
     "execution_count": 4,
     "metadata": {},
     "output_type": "execute_result"
    }
   ],
   "source": [
    "x + 5"
   ]
  },
  {
   "cell_type": "code",
   "execution_count": 5,
   "id": "bd5b7951",
   "metadata": {},
   "outputs": [
    {
     "data": {
      "text/plain": [
       "100"
      ]
     },
     "execution_count": 5,
     "metadata": {},
     "output_type": "execute_result"
    }
   ],
   "source": [
    "x + 10 - 5"
   ]
  },
  {
   "cell_type": "code",
   "execution_count": 6,
   "id": "773173be",
   "metadata": {},
   "outputs": [
    {
     "data": {
      "text/plain": [
       "100"
      ]
     },
     "execution_count": 6,
     "metadata": {},
     "output_type": "execute_result"
    }
   ],
   "source": [
    "x * 2 - 90"
   ]
  },
  {
   "cell_type": "code",
   "execution_count": 7,
   "id": "17008ece",
   "metadata": {},
   "outputs": [],
   "source": [
    "l = 1.50"
   ]
  },
  {
   "cell_type": "code",
   "execution_count": 8,
   "id": "6cad5717",
   "metadata": {},
   "outputs": [
    {
     "ename": "NameError",
     "evalue": "name 'y' is not defined",
     "output_type": "error",
     "traceback": [
      "\u001b[1;31m---------------------------------------------------------------------------\u001b[0m",
      "\u001b[1;31mNameError\u001b[0m                                 Traceback (most recent call last)",
      "Cell \u001b[1;32mIn[8], line 1\u001b[0m\n\u001b[1;32m----> 1\u001b[0m y\n",
      "\u001b[1;31mNameError\u001b[0m: name 'y' is not defined"
     ]
    }
   ],
   "source": [
    "y"
   ]
  },
  {
   "cell_type": "code",
   "execution_count": 9,
   "id": "3ae4efab",
   "metadata": {},
   "outputs": [
    {
     "ename": "NameError",
     "evalue": "name 'y' is not defined",
     "output_type": "error",
     "traceback": [
      "\u001b[1;31m---------------------------------------------------------------------------\u001b[0m",
      "\u001b[1;31mNameError\u001b[0m                                 Traceback (most recent call last)",
      "Cell \u001b[1;32mIn[9], line 1\u001b[0m\n\u001b[1;32m----> 1\u001b[0m l \u001b[38;5;241m/\u001b[39m y\n",
      "\u001b[1;31mNameError\u001b[0m: name 'y' is not defined"
     ]
    }
   ],
   "source": [
    "l / y"
   ]
  },
  {
   "cell_type": "code",
   "execution_count": 10,
   "id": "26a99580",
   "metadata": {},
   "outputs": [],
   "source": [
    "y = 5.647"
   ]
  },
  {
   "cell_type": "code",
   "execution_count": 11,
   "id": "04082064",
   "metadata": {},
   "outputs": [
    {
     "data": {
      "text/plain": [
       "0.2656277669559058"
      ]
     },
     "execution_count": 11,
     "metadata": {},
     "output_type": "execute_result"
    }
   ],
   "source": [
    "l / y"
   ]
  },
  {
   "cell_type": "code",
   "execution_count": 12,
   "id": "86fff22e",
   "metadata": {},
   "outputs": [],
   "source": [
    "h = 'Hello, '"
   ]
  },
  {
   "cell_type": "code",
   "execution_count": 13,
   "id": "c4f2be1a",
   "metadata": {},
   "outputs": [],
   "source": [
    "i = 'i am'"
   ]
  },
  {
   "cell_type": "code",
   "execution_count": 14,
   "id": "809070ba",
   "metadata": {},
   "outputs": [],
   "source": [
    "d = 'Dave'"
   ]
  },
  {
   "cell_type": "code",
   "execution_count": 15,
   "id": "df90005f",
   "metadata": {},
   "outputs": [
    {
     "data": {
      "text/plain": [
       "'Hello, i amDave'"
      ]
     },
     "execution_count": 15,
     "metadata": {},
     "output_type": "execute_result"
    }
   ],
   "source": [
    "h + i + d"
   ]
  },
  {
   "cell_type": "code",
   "execution_count": 16,
   "id": "8c17347d",
   "metadata": {},
   "outputs": [],
   "source": [
    "i = ' i am '"
   ]
  },
  {
   "cell_type": "code",
   "execution_count": 17,
   "id": "8ff90ac5",
   "metadata": {},
   "outputs": [],
   "source": [
    "w = ' what is'"
   ]
  },
  {
   "cell_type": "code",
   "execution_count": 18,
   "id": "880df770",
   "metadata": {},
   "outputs": [],
   "source": [
    "y = ' your name?'"
   ]
  },
  {
   "cell_type": "code",
   "execution_count": 19,
   "id": "b1c533a1",
   "metadata": {},
   "outputs": [
    {
     "data": {
      "text/plain": [
       "'Hello,  i am Dave what is your name?'"
      ]
     },
     "execution_count": 19,
     "metadata": {},
     "output_type": "execute_result"
    }
   ],
   "source": [
    "h + i + d + w+ y"
   ]
  },
  {
   "cell_type": "code",
   "execution_count": 20,
   "id": "57985bee",
   "metadata": {},
   "outputs": [],
   "source": [
    "n = 'Nice to meet you'"
   ]
  },
  {
   "cell_type": "code",
   "execution_count": 21,
   "id": "26d90e5b",
   "metadata": {},
   "outputs": [
    {
     "data": {
      "text/plain": [
       "'Hello,  i am DaveNice to meet you'"
      ]
     },
     "execution_count": 21,
     "metadata": {},
     "output_type": "execute_result"
    }
   ],
   "source": [
    "h + i + d + n"
   ]
  },
  {
   "cell_type": "code",
   "execution_count": 22,
   "id": "3849919f",
   "metadata": {},
   "outputs": [
    {
     "data": {
      "text/plain": [
       "'Hello,  i am DaveHello,  i am DaveHello,  i am DaveHello,  i am DaveHello,  i am DaveHello,  i am DaveHello,  i am DaveHello,  i am DaveHello,  i am DaveHello,  i am DaveHello,  i am DaveHello,  i am DaveHello,  i am DaveHello,  i am DaveHello,  i am DaveHello,  i am DaveHello,  i am DaveHello,  i am DaveHello,  i am DaveHello,  i am DaveHello,  i am DaveHello,  i am DaveHello,  i am DaveHello,  i am DaveHello,  i am DaveHello,  i am DaveHello,  i am DaveHello,  i am DaveHello,  i am DaveHello,  i am DaveHello,  i am DaveHello,  i am DaveHello,  i am DaveHello,  i am DaveHello,  i am DaveHello,  i am DaveHello,  i am DaveHello,  i am DaveHello,  i am DaveHello,  i am DaveHello,  i am DaveHello,  i am DaveHello,  i am DaveHello,  i am DaveHello,  i am DaveHello,  i am DaveHello,  i am DaveHello,  i am DaveHello,  i am DaveHello,  i am DaveHello,  i am DaveHello,  i am DaveHello,  i am DaveHello,  i am DaveHello,  i am DaveHello,  i am DaveHello,  i am DaveHello,  i am DaveHello,  i am DaveHello,  i am DaveHello,  i am DaveHello,  i am DaveHello,  i am DaveHello,  i am DaveHello,  i am DaveHello,  i am DaveHello,  i am DaveHello,  i am DaveHello,  i am DaveHello,  i am DaveHello,  i am DaveHello,  i am DaveHello,  i am DaveHello,  i am DaveHello,  i am DaveHello,  i am DaveHello,  i am DaveHello,  i am DaveHello,  i am DaveHello,  i am DaveHello,  i am DaveHello,  i am DaveHello,  i am DaveHello,  i am DaveHello,  i am DaveHello,  i am DaveHello,  i am DaveHello,  i am DaveHello,  i am DaveHello,  i am DaveHello,  i am DaveHello,  i am DaveHello,  i am DaveHello,  i am DaveHello,  i am DaveHello,  i am DaveHello,  i am DaveHello,  i am DaveHello,  i am DaveHello,  i am Dave'"
      ]
     },
     "execution_count": 22,
     "metadata": {},
     "output_type": "execute_result"
    }
   ],
   "source": [
    "(h+i+d)*100"
   ]
  },
  {
   "cell_type": "code",
   "execution_count": null,
   "id": "b48c0c7a",
   "metadata": {},
   "outputs": [],
   "source": []
  }
 ],
 "metadata": {
  "kernelspec": {
   "display_name": "Python 3 (ipykernel)",
   "language": "python",
   "name": "python3"
  },
  "language_info": {
   "codemirror_mode": {
    "name": "ipython",
    "version": 3
   },
   "file_extension": ".py",
   "mimetype": "text/x-python",
   "name": "python",
   "nbconvert_exporter": "python",
   "pygments_lexer": "ipython3",
   "version": "3.11.5"
  }
 },
 "nbformat": 4,
 "nbformat_minor": 5
}
