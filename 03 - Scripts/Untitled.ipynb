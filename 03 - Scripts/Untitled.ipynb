{
 "cells": [
  {
   "cell_type": "code",
   "execution_count": 1,
   "id": "a7b7ff41",
   "metadata": {},
   "outputs": [],
   "source": [
    "import pandas as pd\n",
    "import numpy as np\n",
    "import os\n",
    "import matplotlib.pyplot as plt\n",
    "import seaborn as sns\n",
    "import scipy"
   ]
  },
  {
   "cell_type": "code",
   "execution_count": 2,
   "id": "7044cde0",
   "metadata": {},
   "outputs": [
    {
     "data": {
      "text/plain": [
       "'C:\\\\Users\\\\Chaot\\\\02-2024 Instacart Basket Analysis'"
      ]
     },
     "execution_count": 2,
     "metadata": {},
     "output_type": "execute_result"
    }
   ],
   "source": [
    "path = r'C:\\Users\\Chaot\\02-2024 Instacart Basket Analysis'\n",
    "path"
   ]
  },
  {
   "cell_type": "code",
   "execution_count": 6,
   "id": "25f9fa4a",
   "metadata": {},
   "outputs": [],
   "source": [
    "customers_original = pd.read_csv(os.path.join(path, '02 - Data', 'Original Data', 'customers.csv'), index_col = False)"
   ]
  },
  {
   "cell_type": "code",
   "execution_count": 8,
   "id": "7f86969f",
   "metadata": {},
   "outputs": [
    {
     "data": {
      "text/plain": [
       "(206209, 10)"
      ]
     },
     "execution_count": 8,
     "metadata": {},
     "output_type": "execute_result"
    }
   ],
   "source": [
    "customers_original.shape"
   ]
  },
  {
   "cell_type": "code",
   "execution_count": 11,
   "id": "80efc109",
   "metadata": {},
   "outputs": [],
   "source": [
    "products_original = pd.read_csv(os.path.join(path, '02 - Data', 'Original Data', 'products.csv'), index_col = False)"
   ]
  },
  {
   "cell_type": "code",
   "execution_count": 12,
   "id": "9cb870c3",
   "metadata": {},
   "outputs": [
    {
     "data": {
      "text/plain": [
       "(49693, 5)"
      ]
     },
     "execution_count": 12,
     "metadata": {},
     "output_type": "execute_result"
    }
   ],
   "source": [
    "products_original.shape"
   ]
  },
  {
   "cell_type": "code",
   "execution_count": 13,
   "id": "1bd753e7",
   "metadata": {},
   "outputs": [],
   "source": [
    "ord_prod_original = pd.read_csv(os.path.join(path, '02 - Data', 'Original Data', 'orders_products_prior.csv'), index_col = False)"
   ]
  },
  {
   "cell_type": "code",
   "execution_count": 14,
   "id": "f5e32b54",
   "metadata": {},
   "outputs": [
    {
     "data": {
      "text/plain": [
       "(32434489, 4)"
      ]
     },
     "execution_count": 14,
     "metadata": {},
     "output_type": "execute_result"
    }
   ],
   "source": [
    "ord_prod_original.shape"
   ]
  },
  {
   "cell_type": "code",
   "execution_count": 15,
   "id": "0002e869",
   "metadata": {},
   "outputs": [],
   "source": [
    "orders_original = pd.read_csv(os.path.join(path, '02 - Data', 'Original Data', 'orders.csv'), index_col = False)"
   ]
  },
  {
   "cell_type": "code",
   "execution_count": 16,
   "id": "dcc79e74",
   "metadata": {},
   "outputs": [
    {
     "data": {
      "text/plain": [
       "(3421083, 7)"
      ]
     },
     "execution_count": 16,
     "metadata": {},
     "output_type": "execute_result"
    }
   ],
   "source": [
    "orders_original.shape"
   ]
  },
  {
   "cell_type": "code",
   "execution_count": 17,
   "id": "dfd6a9d6",
   "metadata": {},
   "outputs": [],
   "source": [
    "products_checked = pd.read_csv(os.path.join(path, '02 - Data', 'Prepared Data', 'products_checked.csv'), index_col = False)"
   ]
  },
  {
   "cell_type": "code",
   "execution_count": 18,
   "id": "32290df8",
   "metadata": {},
   "outputs": [
    {
     "data": {
      "text/plain": [
       "(49672, 6)"
      ]
     },
     "execution_count": 18,
     "metadata": {},
     "output_type": "execute_result"
    }
   ],
   "source": [
    "products_checked.shape"
   ]
  },
  {
   "cell_type": "code",
   "execution_count": 19,
   "id": "1769d0d4",
   "metadata": {},
   "outputs": [],
   "source": [
    "orders_checked = pd.read_csv(os.path.join(path, '02 - Data', 'Prepared Data', 'orders_checked.csv'), index_col = False)"
   ]
  },
  {
   "cell_type": "code",
   "execution_count": 20,
   "id": "852c290b",
   "metadata": {},
   "outputs": [
    {
     "data": {
      "text/plain": [
       "(3421083, 8)"
      ]
     },
     "execution_count": 20,
     "metadata": {},
     "output_type": "execute_result"
    }
   ],
   "source": [
    "orders_checked.shape"
   ]
  },
  {
   "cell_type": "code",
   "execution_count": 21,
   "id": "ef8b34a9",
   "metadata": {},
   "outputs": [],
   "source": [
    "orders_wrangled = pd.read_csv(os.path.join(path, '02 - Data', 'Prepared Data', 'orders_wrangled.csv'), index_col = False)"
   ]
  },
  {
   "cell_type": "code",
   "execution_count": 22,
   "id": "f5b8d09a",
   "metadata": {},
   "outputs": [
    {
     "data": {
      "text/plain": [
       "(3421083, 7)"
      ]
     },
     "execution_count": 22,
     "metadata": {},
     "output_type": "execute_result"
    }
   ],
   "source": [
    "orders_wrangled.shape"
   ]
  },
  {
   "cell_type": "code",
   "execution_count": 26,
   "id": "931ae180",
   "metadata": {},
   "outputs": [],
   "source": [
    "ord_prod_combined = pd.read_pickle(os.path.join(path,'02 - Data','Prepared Data', 'orders_products_combined.pkl'))"
   ]
  },
  {
   "cell_type": "code",
   "execution_count": 27,
   "id": "24c48de5",
   "metadata": {},
   "outputs": [
    {
     "data": {
      "text/plain": [
       "(32434489, 12)"
      ]
     },
     "execution_count": 27,
     "metadata": {},
     "output_type": "execute_result"
    }
   ],
   "source": [
    "ord_prod_combined.shape"
   ]
  },
  {
   "cell_type": "code",
   "execution_count": 28,
   "id": "53854f21",
   "metadata": {},
   "outputs": [],
   "source": [
    "ord_prod_merged = pd.read_pickle(os.path.join(path,'02 - Data','Prepared Data', 'order_products_merged.pkl'))"
   ]
  },
  {
   "cell_type": "code",
   "execution_count": 29,
   "id": "4643e2bd",
   "metadata": {},
   "outputs": [
    {
     "data": {
      "text/plain": [
       "(32404859, 18)"
      ]
     },
     "execution_count": 29,
     "metadata": {},
     "output_type": "execute_result"
    }
   ],
   "source": [
    "ord_prod_merged.shape"
   ]
  },
  {
   "cell_type": "code",
   "execution_count": null,
   "id": "825a4e67",
   "metadata": {},
   "outputs": [],
   "source": []
  }
 ],
 "metadata": {
  "kernelspec": {
   "display_name": "Python 3 (ipykernel)",
   "language": "python",
   "name": "python3"
  },
  "language_info": {
   "codemirror_mode": {
    "name": "ipython",
    "version": 3
   },
   "file_extension": ".py",
   "mimetype": "text/x-python",
   "name": "python",
   "nbconvert_exporter": "python",
   "pygments_lexer": "ipython3",
   "version": "3.11.5"
  }
 },
 "nbformat": 4,
 "nbformat_minor": 5
}
