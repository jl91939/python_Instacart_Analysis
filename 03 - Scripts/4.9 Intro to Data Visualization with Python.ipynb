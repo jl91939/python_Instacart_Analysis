{
 "cells": [
  {
   "cell_type": "markdown",
   "id": "1e6a834d",
   "metadata": {},
   "source": [
    "# Importing Libraries."
   ]
  },
  {
   "cell_type": "code",
   "execution_count": 1,
   "id": "14c1db2d",
   "metadata": {},
   "outputs": [],
   "source": [
    "import pandas as pd\n",
    "import numpy as np\n",
    "import os\n",
    "import matplotlib.pyplot as plt\n",
    "import seaborn as sns\n",
    "import scipy"
   ]
  },
  {
   "cell_type": "markdown",
   "id": "d775d1a4",
   "metadata": {},
   "source": [
    "# Setting Path."
   ]
  },
  {
   "cell_type": "code",
   "execution_count": 2,
   "id": "465f5978",
   "metadata": {},
   "outputs": [],
   "source": [
    "path = r'C:\\Users\\Chaot\\02-2024 Instacart Basket Analysis'"
   ]
  },
  {
   "cell_type": "code",
   "execution_count": 3,
   "id": "568125ca",
   "metadata": {},
   "outputs": [
    {
     "data": {
      "text/plain": [
       "'C:\\\\Users\\\\Chaot\\\\02-2024 Instacart Basket Analysis'"
      ]
     },
     "execution_count": 3,
     "metadata": {},
     "output_type": "execute_result"
    }
   ],
   "source": [
    "path"
   ]
  },
  {
   "cell_type": "markdown",
   "id": "c3d31700",
   "metadata": {},
   "source": [
    "# Importing Dataframes."
   ]
  },
  {
   "cell_type": "code",
   "execution_count": 5,
   "id": "ffb52dd9",
   "metadata": {},
   "outputs": [],
   "source": [
    "op_merged = pd.read_pickle(os.path.join(path, '02 - Data', 'Prepared Data', '4.8_agg_orders_products_merge.pkl'))"
   ]
  },
  {
   "cell_type": "code",
   "execution_count": 7,
   "id": "354b57b7",
   "metadata": {},
   "outputs": [
    {
     "data": {
      "text/html": [
       "<div>\n",
       "<style scoped>\n",
       "    .dataframe tbody tr th:only-of-type {\n",
       "        vertical-align: middle;\n",
       "    }\n",
       "\n",
       "    .dataframe tbody tr th {\n",
       "        vertical-align: top;\n",
       "    }\n",
       "\n",
       "    .dataframe thead th {\n",
       "        text-align: right;\n",
       "    }\n",
       "</style>\n",
       "<table border=\"1\" class=\"dataframe\">\n",
       "  <thead>\n",
       "    <tr style=\"text-align: right;\">\n",
       "      <th></th>\n",
       "      <th>Unnamed: 0.1</th>\n",
       "      <th>Unnamed: 0_x</th>\n",
       "      <th>order_id</th>\n",
       "      <th>user_id</th>\n",
       "      <th>order_number</th>\n",
       "      <th>orders_day_of_week</th>\n",
       "      <th>order_hour_of_day</th>\n",
       "      <th>days_since_prior_order</th>\n",
       "      <th>product_id</th>\n",
       "      <th>add_to_cart_order</th>\n",
       "      <th>...</th>\n",
       "      <th>price_range_loc</th>\n",
       "      <th>busiest_day</th>\n",
       "      <th>busiest_days</th>\n",
       "      <th>busiest_period_of_day</th>\n",
       "      <th>max_order</th>\n",
       "      <th>loyalty_flag</th>\n",
       "      <th>mean_product_price</th>\n",
       "      <th>spender_flag</th>\n",
       "      <th>Customer_frequency</th>\n",
       "      <th>frequency_flag</th>\n",
       "    </tr>\n",
       "  </thead>\n",
       "  <tbody>\n",
       "    <tr>\n",
       "      <th>0</th>\n",
       "      <td>0</td>\n",
       "      <td>0</td>\n",
       "      <td>2539329</td>\n",
       "      <td>1</td>\n",
       "      <td>1</td>\n",
       "      <td>2</td>\n",
       "      <td>8</td>\n",
       "      <td>NaN</td>\n",
       "      <td>196</td>\n",
       "      <td>1</td>\n",
       "      <td>...</td>\n",
       "      <td>Medium Range Product</td>\n",
       "      <td>Regularly busy</td>\n",
       "      <td>Regularly busy days</td>\n",
       "      <td>Average Orders</td>\n",
       "      <td>10</td>\n",
       "      <td>New Customer</td>\n",
       "      <td>6.367797</td>\n",
       "      <td>Low</td>\n",
       "      <td>20.5</td>\n",
       "      <td>Non-Frequent</td>\n",
       "    </tr>\n",
       "    <tr>\n",
       "      <th>1</th>\n",
       "      <td>1</td>\n",
       "      <td>1</td>\n",
       "      <td>2398795</td>\n",
       "      <td>1</td>\n",
       "      <td>2</td>\n",
       "      <td>3</td>\n",
       "      <td>7</td>\n",
       "      <td>15.0</td>\n",
       "      <td>196</td>\n",
       "      <td>1</td>\n",
       "      <td>...</td>\n",
       "      <td>Medium Range Product</td>\n",
       "      <td>Regularly busy</td>\n",
       "      <td>Least busiest days</td>\n",
       "      <td>Average Orders</td>\n",
       "      <td>10</td>\n",
       "      <td>New Customer</td>\n",
       "      <td>6.367797</td>\n",
       "      <td>Low</td>\n",
       "      <td>20.5</td>\n",
       "      <td>Non-Frequent</td>\n",
       "    </tr>\n",
       "    <tr>\n",
       "      <th>2</th>\n",
       "      <td>2</td>\n",
       "      <td>2</td>\n",
       "      <td>473747</td>\n",
       "      <td>1</td>\n",
       "      <td>3</td>\n",
       "      <td>3</td>\n",
       "      <td>12</td>\n",
       "      <td>21.0</td>\n",
       "      <td>196</td>\n",
       "      <td>1</td>\n",
       "      <td>...</td>\n",
       "      <td>Medium Range Product</td>\n",
       "      <td>Regularly busy</td>\n",
       "      <td>Least busiest days</td>\n",
       "      <td>Most Orders</td>\n",
       "      <td>10</td>\n",
       "      <td>New Customer</td>\n",
       "      <td>6.367797</td>\n",
       "      <td>Low</td>\n",
       "      <td>20.5</td>\n",
       "      <td>Non-Frequent</td>\n",
       "    </tr>\n",
       "    <tr>\n",
       "      <th>3</th>\n",
       "      <td>3</td>\n",
       "      <td>3</td>\n",
       "      <td>2254736</td>\n",
       "      <td>1</td>\n",
       "      <td>4</td>\n",
       "      <td>4</td>\n",
       "      <td>7</td>\n",
       "      <td>29.0</td>\n",
       "      <td>196</td>\n",
       "      <td>1</td>\n",
       "      <td>...</td>\n",
       "      <td>Medium Range Product</td>\n",
       "      <td>Least busy</td>\n",
       "      <td>Least busiest days</td>\n",
       "      <td>Average Orders</td>\n",
       "      <td>10</td>\n",
       "      <td>New Customer</td>\n",
       "      <td>6.367797</td>\n",
       "      <td>Low</td>\n",
       "      <td>20.5</td>\n",
       "      <td>Non-Frequent</td>\n",
       "    </tr>\n",
       "    <tr>\n",
       "      <th>4</th>\n",
       "      <td>4</td>\n",
       "      <td>4</td>\n",
       "      <td>431534</td>\n",
       "      <td>1</td>\n",
       "      <td>5</td>\n",
       "      <td>4</td>\n",
       "      <td>15</td>\n",
       "      <td>28.0</td>\n",
       "      <td>196</td>\n",
       "      <td>1</td>\n",
       "      <td>...</td>\n",
       "      <td>Medium Range Product</td>\n",
       "      <td>Least busy</td>\n",
       "      <td>Least busiest days</td>\n",
       "      <td>Most Orders</td>\n",
       "      <td>10</td>\n",
       "      <td>New Customer</td>\n",
       "      <td>6.367797</td>\n",
       "      <td>Low</td>\n",
       "      <td>20.5</td>\n",
       "      <td>Non-Frequent</td>\n",
       "    </tr>\n",
       "    <tr>\n",
       "      <th>5</th>\n",
       "      <td>5</td>\n",
       "      <td>5</td>\n",
       "      <td>3367565</td>\n",
       "      <td>1</td>\n",
       "      <td>6</td>\n",
       "      <td>2</td>\n",
       "      <td>7</td>\n",
       "      <td>19.0</td>\n",
       "      <td>196</td>\n",
       "      <td>1</td>\n",
       "      <td>...</td>\n",
       "      <td>Medium Range Product</td>\n",
       "      <td>Regularly busy</td>\n",
       "      <td>Regularly busy days</td>\n",
       "      <td>Average Orders</td>\n",
       "      <td>10</td>\n",
       "      <td>New Customer</td>\n",
       "      <td>6.367797</td>\n",
       "      <td>Low</td>\n",
       "      <td>20.5</td>\n",
       "      <td>Non-Frequent</td>\n",
       "    </tr>\n",
       "    <tr>\n",
       "      <th>6</th>\n",
       "      <td>6</td>\n",
       "      <td>6</td>\n",
       "      <td>550135</td>\n",
       "      <td>1</td>\n",
       "      <td>7</td>\n",
       "      <td>1</td>\n",
       "      <td>9</td>\n",
       "      <td>20.0</td>\n",
       "      <td>196</td>\n",
       "      <td>1</td>\n",
       "      <td>...</td>\n",
       "      <td>Medium Range Product</td>\n",
       "      <td>Regularly busy</td>\n",
       "      <td>Busiest days</td>\n",
       "      <td>Most Orders</td>\n",
       "      <td>10</td>\n",
       "      <td>New Customer</td>\n",
       "      <td>6.367797</td>\n",
       "      <td>Low</td>\n",
       "      <td>20.5</td>\n",
       "      <td>Non-Frequent</td>\n",
       "    </tr>\n",
       "    <tr>\n",
       "      <th>7</th>\n",
       "      <td>7</td>\n",
       "      <td>7</td>\n",
       "      <td>3108588</td>\n",
       "      <td>1</td>\n",
       "      <td>8</td>\n",
       "      <td>1</td>\n",
       "      <td>14</td>\n",
       "      <td>14.0</td>\n",
       "      <td>196</td>\n",
       "      <td>2</td>\n",
       "      <td>...</td>\n",
       "      <td>Medium Range Product</td>\n",
       "      <td>Regularly busy</td>\n",
       "      <td>Busiest days</td>\n",
       "      <td>Most Orders</td>\n",
       "      <td>10</td>\n",
       "      <td>New Customer</td>\n",
       "      <td>6.367797</td>\n",
       "      <td>Low</td>\n",
       "      <td>20.5</td>\n",
       "      <td>Non-Frequent</td>\n",
       "    </tr>\n",
       "    <tr>\n",
       "      <th>8</th>\n",
       "      <td>8</td>\n",
       "      <td>8</td>\n",
       "      <td>2295261</td>\n",
       "      <td>1</td>\n",
       "      <td>9</td>\n",
       "      <td>1</td>\n",
       "      <td>16</td>\n",
       "      <td>0.0</td>\n",
       "      <td>196</td>\n",
       "      <td>4</td>\n",
       "      <td>...</td>\n",
       "      <td>Medium Range Product</td>\n",
       "      <td>Regularly busy</td>\n",
       "      <td>Busiest days</td>\n",
       "      <td>Most Orders</td>\n",
       "      <td>10</td>\n",
       "      <td>New Customer</td>\n",
       "      <td>6.367797</td>\n",
       "      <td>Low</td>\n",
       "      <td>20.5</td>\n",
       "      <td>Non-Frequent</td>\n",
       "    </tr>\n",
       "    <tr>\n",
       "      <th>9</th>\n",
       "      <td>9</td>\n",
       "      <td>9</td>\n",
       "      <td>2550362</td>\n",
       "      <td>1</td>\n",
       "      <td>10</td>\n",
       "      <td>4</td>\n",
       "      <td>8</td>\n",
       "      <td>30.0</td>\n",
       "      <td>196</td>\n",
       "      <td>1</td>\n",
       "      <td>...</td>\n",
       "      <td>Medium Range Product</td>\n",
       "      <td>Least busy</td>\n",
       "      <td>Least busiest days</td>\n",
       "      <td>Average Orders</td>\n",
       "      <td>10</td>\n",
       "      <td>New Customer</td>\n",
       "      <td>6.367797</td>\n",
       "      <td>Low</td>\n",
       "      <td>20.5</td>\n",
       "      <td>Non-Frequent</td>\n",
       "    </tr>\n",
       "    <tr>\n",
       "      <th>10</th>\n",
       "      <td>144</td>\n",
       "      <td>144</td>\n",
       "      <td>2968173</td>\n",
       "      <td>15</td>\n",
       "      <td>15</td>\n",
       "      <td>1</td>\n",
       "      <td>9</td>\n",
       "      <td>7.0</td>\n",
       "      <td>196</td>\n",
       "      <td>2</td>\n",
       "      <td>...</td>\n",
       "      <td>Medium Range Product</td>\n",
       "      <td>Regularly busy</td>\n",
       "      <td>Busiest days</td>\n",
       "      <td>Most Orders</td>\n",
       "      <td>22</td>\n",
       "      <td>Regular Customer</td>\n",
       "      <td>3.980556</td>\n",
       "      <td>Low</td>\n",
       "      <td>10.0</td>\n",
       "      <td>Frequent</td>\n",
       "    </tr>\n",
       "    <tr>\n",
       "      <th>11</th>\n",
       "      <td>146</td>\n",
       "      <td>146</td>\n",
       "      <td>1870022</td>\n",
       "      <td>15</td>\n",
       "      <td>17</td>\n",
       "      <td>2</td>\n",
       "      <td>16</td>\n",
       "      <td>8.0</td>\n",
       "      <td>196</td>\n",
       "      <td>6</td>\n",
       "      <td>...</td>\n",
       "      <td>Medium Range Product</td>\n",
       "      <td>Regularly busy</td>\n",
       "      <td>Regularly busy days</td>\n",
       "      <td>Most Orders</td>\n",
       "      <td>22</td>\n",
       "      <td>Regular Customer</td>\n",
       "      <td>3.980556</td>\n",
       "      <td>Low</td>\n",
       "      <td>10.0</td>\n",
       "      <td>Frequent</td>\n",
       "    </tr>\n",
       "    <tr>\n",
       "      <th>12</th>\n",
       "      <td>147</td>\n",
       "      <td>147</td>\n",
       "      <td>1911383</td>\n",
       "      <td>15</td>\n",
       "      <td>18</td>\n",
       "      <td>2</td>\n",
       "      <td>11</td>\n",
       "      <td>7.0</td>\n",
       "      <td>196</td>\n",
       "      <td>1</td>\n",
       "      <td>...</td>\n",
       "      <td>Medium Range Product</td>\n",
       "      <td>Regularly busy</td>\n",
       "      <td>Regularly busy days</td>\n",
       "      <td>Most Orders</td>\n",
       "      <td>22</td>\n",
       "      <td>Regular Customer</td>\n",
       "      <td>3.980556</td>\n",
       "      <td>Low</td>\n",
       "      <td>10.0</td>\n",
       "      <td>Frequent</td>\n",
       "    </tr>\n",
       "    <tr>\n",
       "      <th>13</th>\n",
       "      <td>150</td>\n",
       "      <td>150</td>\n",
       "      <td>2715276</td>\n",
       "      <td>15</td>\n",
       "      <td>21</td>\n",
       "      <td>1</td>\n",
       "      <td>9</td>\n",
       "      <td>7.0</td>\n",
       "      <td>196</td>\n",
       "      <td>1</td>\n",
       "      <td>...</td>\n",
       "      <td>Medium Range Product</td>\n",
       "      <td>Regularly busy</td>\n",
       "      <td>Busiest days</td>\n",
       "      <td>Most Orders</td>\n",
       "      <td>22</td>\n",
       "      <td>Regular Customer</td>\n",
       "      <td>3.980556</td>\n",
       "      <td>Low</td>\n",
       "      <td>10.0</td>\n",
       "      <td>Frequent</td>\n",
       "    </tr>\n",
       "    <tr>\n",
       "      <th>14</th>\n",
       "      <td>151</td>\n",
       "      <td>151</td>\n",
       "      <td>487368</td>\n",
       "      <td>15</td>\n",
       "      <td>22</td>\n",
       "      <td>1</td>\n",
       "      <td>10</td>\n",
       "      <td>14.0</td>\n",
       "      <td>196</td>\n",
       "      <td>1</td>\n",
       "      <td>...</td>\n",
       "      <td>Medium Range Product</td>\n",
       "      <td>Regularly busy</td>\n",
       "      <td>Busiest days</td>\n",
       "      <td>Most Orders</td>\n",
       "      <td>22</td>\n",
       "      <td>Regular Customer</td>\n",
       "      <td>3.980556</td>\n",
       "      <td>Low</td>\n",
       "      <td>10.0</td>\n",
       "      <td>Frequent</td>\n",
       "    </tr>\n",
       "  </tbody>\n",
       "</table>\n",
       "<p>15 rows × 28 columns</p>\n",
       "</div>"
      ],
      "text/plain": [
       "    Unnamed: 0.1  Unnamed: 0_x  order_id  user_id  order_number  \\\n",
       "0              0             0   2539329        1             1   \n",
       "1              1             1   2398795        1             2   \n",
       "2              2             2    473747        1             3   \n",
       "3              3             3   2254736        1             4   \n",
       "4              4             4    431534        1             5   \n",
       "5              5             5   3367565        1             6   \n",
       "6              6             6    550135        1             7   \n",
       "7              7             7   3108588        1             8   \n",
       "8              8             8   2295261        1             9   \n",
       "9              9             9   2550362        1            10   \n",
       "10           144           144   2968173       15            15   \n",
       "11           146           146   1870022       15            17   \n",
       "12           147           147   1911383       15            18   \n",
       "13           150           150   2715276       15            21   \n",
       "14           151           151    487368       15            22   \n",
       "\n",
       "    orders_day_of_week  order_hour_of_day  days_since_prior_order  product_id  \\\n",
       "0                    2                  8                     NaN         196   \n",
       "1                    3                  7                    15.0         196   \n",
       "2                    3                 12                    21.0         196   \n",
       "3                    4                  7                    29.0         196   \n",
       "4                    4                 15                    28.0         196   \n",
       "5                    2                  7                    19.0         196   \n",
       "6                    1                  9                    20.0         196   \n",
       "7                    1                 14                    14.0         196   \n",
       "8                    1                 16                     0.0         196   \n",
       "9                    4                  8                    30.0         196   \n",
       "10                   1                  9                     7.0         196   \n",
       "11                   2                 16                     8.0         196   \n",
       "12                   2                 11                     7.0         196   \n",
       "13                   1                  9                     7.0         196   \n",
       "14                   1                 10                    14.0         196   \n",
       "\n",
       "    add_to_cart_order  ...       price_range_loc     busiest_day  \\\n",
       "0                   1  ...  Medium Range Product  Regularly busy   \n",
       "1                   1  ...  Medium Range Product  Regularly busy   \n",
       "2                   1  ...  Medium Range Product  Regularly busy   \n",
       "3                   1  ...  Medium Range Product      Least busy   \n",
       "4                   1  ...  Medium Range Product      Least busy   \n",
       "5                   1  ...  Medium Range Product  Regularly busy   \n",
       "6                   1  ...  Medium Range Product  Regularly busy   \n",
       "7                   2  ...  Medium Range Product  Regularly busy   \n",
       "8                   4  ...  Medium Range Product  Regularly busy   \n",
       "9                   1  ...  Medium Range Product      Least busy   \n",
       "10                  2  ...  Medium Range Product  Regularly busy   \n",
       "11                  6  ...  Medium Range Product  Regularly busy   \n",
       "12                  1  ...  Medium Range Product  Regularly busy   \n",
       "13                  1  ...  Medium Range Product  Regularly busy   \n",
       "14                  1  ...  Medium Range Product  Regularly busy   \n",
       "\n",
       "           busiest_days busiest_period_of_day  max_order      loyalty_flag  \\\n",
       "0   Regularly busy days        Average Orders         10      New Customer   \n",
       "1    Least busiest days        Average Orders         10      New Customer   \n",
       "2    Least busiest days           Most Orders         10      New Customer   \n",
       "3    Least busiest days        Average Orders         10      New Customer   \n",
       "4    Least busiest days           Most Orders         10      New Customer   \n",
       "5   Regularly busy days        Average Orders         10      New Customer   \n",
       "6          Busiest days           Most Orders         10      New Customer   \n",
       "7          Busiest days           Most Orders         10      New Customer   \n",
       "8          Busiest days           Most Orders         10      New Customer   \n",
       "9    Least busiest days        Average Orders         10      New Customer   \n",
       "10         Busiest days           Most Orders         22  Regular Customer   \n",
       "11  Regularly busy days           Most Orders         22  Regular Customer   \n",
       "12  Regularly busy days           Most Orders         22  Regular Customer   \n",
       "13         Busiest days           Most Orders         22  Regular Customer   \n",
       "14         Busiest days           Most Orders         22  Regular Customer   \n",
       "\n",
       "    mean_product_price spender_flag Customer_frequency frequency_flag  \n",
       "0             6.367797          Low               20.5   Non-Frequent  \n",
       "1             6.367797          Low               20.5   Non-Frequent  \n",
       "2             6.367797          Low               20.5   Non-Frequent  \n",
       "3             6.367797          Low               20.5   Non-Frequent  \n",
       "4             6.367797          Low               20.5   Non-Frequent  \n",
       "5             6.367797          Low               20.5   Non-Frequent  \n",
       "6             6.367797          Low               20.5   Non-Frequent  \n",
       "7             6.367797          Low               20.5   Non-Frequent  \n",
       "8             6.367797          Low               20.5   Non-Frequent  \n",
       "9             6.367797          Low               20.5   Non-Frequent  \n",
       "10            3.980556          Low               10.0       Frequent  \n",
       "11            3.980556          Low               10.0       Frequent  \n",
       "12            3.980556          Low               10.0       Frequent  \n",
       "13            3.980556          Low               10.0       Frequent  \n",
       "14            3.980556          Low               10.0       Frequent  \n",
       "\n",
       "[15 rows x 28 columns]"
      ]
     },
     "execution_count": 7,
     "metadata": {},
     "output_type": "execute_result"
    }
   ],
   "source": [
    "op_merged.head(15)"
   ]
  },
  {
   "cell_type": "markdown",
   "id": "1026567f",
   "metadata": {},
   "source": [
    "# Creating Bar Charts."
   ]
  },
  {
   "cell_type": "code",
   "execution_count": 9,
   "id": "4662e3f6",
   "metadata": {},
   "outputs": [
    {
     "data": {
      "text/plain": [
       "<Axes: xlabel='orders_day_of_week'>"
      ]
     },
     "execution_count": 9,
     "metadata": {},
     "output_type": "execute_result"
    },
    {
     "data": {
      "image/png": "[encoded data removed]",
      "text/plain": [
       "<Figure size 640x480 with 1 Axes>"
      ]
     },
     "metadata": {},
     "output_type": "display_data"
    }
   ],
   "source": [
    "#Create a bar chart based on 'Column'\n",
    "\n",
    "op_merged['orders_day_of_week'].value_counts().plot.bar()"
   ]
  },
  {
   "cell_type": "code",
   "execution_count": 10,
   "id": "327c6ddb",
   "metadata": {},
   "outputs": [
    {
     "data": {
      "image/png": "[encoded data removed]",
      "text/plain": [
       "<Figure size 640x480 with 1 Axes>"
      ]
     },
     "metadata": {},
     "output_type": "display_data"
    }
   ],
   "source": [
    "#Sorting bar chart on 'column'\n",
    "\n",
    "bar = op_merged['orders_day_of_week'].value_counts().sort_index().plot.bar()"
   ]
  },
  {
   "cell_type": "code",
   "execution_count": 11,
   "id": "fed5b5b2",
   "metadata": {},
   "outputs": [
    {
     "data": {
      "text/plain": [
       "orders_day_of_week\n",
       "0    6204182\n",
       "1    5660230\n",
       "6    4496490\n",
       "2    4213830\n",
       "5    4205791\n",
       "3    3840534\n",
       "4    3783802\n",
       "Name: count, dtype: int64"
      ]
     },
     "execution_count": 11,
     "metadata": {},
     "output_type": "execute_result"
    }
   ],
   "source": [
    "#Showing value counts for order days of week.\n",
    "\n",
    "op_merged['orders_day_of_week'].value_counts()"
   ]
  },
  {
   "cell_type": "code",
   "execution_count": 12,
   "id": "2e06ccb9",
   "metadata": {},
   "outputs": [
    {
     "data": {
      "text/plain": [
       "orders_day_of_week\n",
       "0    6204182\n",
       "1    5660230\n",
       "2    4213830\n",
       "3    3840534\n",
       "4    3783802\n",
       "5    4205791\n",
       "6    4496490\n",
       "Name: count, dtype: int64"
      ]
     },
     "execution_count": 12,
     "metadata": {},
     "output_type": "execute_result"
    }
   ],
   "source": [
    "# Sorting on Orders day of week column.\n",
    "\n",
    "op_merged['orders_day_of_week'].value_counts().sort_index()"
   ]
  },
  {
   "cell_type": "code",
   "execution_count": 15,
   "id": "2946e02a",
   "metadata": {},
   "outputs": [
    {
     "data": {
      "text/plain": [
       "<Axes: xlabel='orders_day_of_week'>"
      ]
     },
     "execution_count": 15,
     "metadata": {},
     "output_type": "execute_result"
    },
    {
     "data": {
      "image/png": "[encoded data removed]",
      "text/plain": [
       "<Figure size 640x480 with 1 Axes>"
      ]
     },
     "metadata": {},
     "output_type": "display_data"
    }
   ],
   "source": [
    "#Adding colors to bar chart.\n",
    "\n",
    "op_merged['orders_day_of_week'].value_counts().plot.bar(color =['Green', 'Blue', 'Purple', 'Yellow', 'Orange', 'Red', 'Pink'])"
   ]
  },
  {
   "cell_type": "markdown",
   "id": "21842bd7",
   "metadata": {},
   "source": [
    "# Exporting Bar Charts."
   ]
  },
  {
   "cell_type": "code",
   "execution_count": 16,
   "id": "3f3a35b8",
   "metadata": {},
   "outputs": [
    {
     "data": {
      "image/png": "[encoded data removed]",
      "text/plain": [
       "<Figure size 640x480 with 1 Axes>"
      ]
     },
     "metadata": {},
     "output_type": "display_data"
    }
   ],
   "source": [
    "#Creating the bar chart memory.\n",
    "\n",
    "bar = op_merged['orders_day_of_week'].value_counts().plot.bar(color =['Green', 'Blue', 'Purple', 'Yellow', 'Orange', 'Red', 'Pink'])"
   ]
  },
  {
   "cell_type": "code",
   "execution_count": 17,
   "id": "f70b9e23",
   "metadata": {},
   "outputs": [],
   "source": [
    "#Exporting the bar chart\n",
    "\n",
    "bar.figure.savefig(os.path.join(path, '04 - Analysis', 'Visualizations', 'bar_orders_dow.png'))"
   ]
  },
  {
   "cell_type": "markdown",
   "id": "f8a56a26",
   "metadata": {},
   "source": [
    "# Creating Histograms and Scatterplots."
   ]
  },
  {
   "cell_type": "code",
   "execution_count": 18,
   "id": "6002dd19",
   "metadata": {},
   "outputs": [
    {
     "data": {
      "text/plain": [
       "<Axes: ylabel='Frequency'>"
      ]
     },
     "execution_count": 18,
     "metadata": {},
     "output_type": "execute_result"
    },
    {
     "data": {
      "image/png": "[encoded data removed]",
      "text/plain": [
       "<Figure size 640x480 with 1 Axes>"
      ]
     },
     "metadata": {},
     "output_type": "display_data"
    }
   ],
   "source": [
    "op_merged['prices'].plot.hist(bins = 25)"
   ]
  },
  {
   "cell_type": "code",
   "execution_count": 19,
   "id": "a4c9000a",
   "metadata": {},
   "outputs": [
    {
     "data": {
      "text/plain": [
       "count    3.240486e+07\n",
       "mean     1.198023e+01\n",
       "std      4.956554e+02\n",
       "min      1.000000e+00\n",
       "25%      4.200000e+00\n",
       "50%      7.400000e+00\n",
       "75%      1.130000e+01\n",
       "max      9.999900e+04\n",
       "Name: prices, dtype: float64"
      ]
     },
     "execution_count": 19,
     "metadata": {},
     "output_type": "execute_result"
    }
   ],
   "source": [
    "op_merged['prices'].describe()"
   ]
  },
  {
   "cell_type": "code",
   "execution_count": 20,
   "id": "18e8301c",
   "metadata": {},
   "outputs": [
    {
     "data": {
      "text/plain": [
       "11.980225638383454"
      ]
     },
     "execution_count": 20,
     "metadata": {},
     "output_type": "execute_result"
    }
   ],
   "source": [
    "op_merged['prices'].mean()"
   ]
  },
  {
   "cell_type": "code",
   "execution_count": 21,
   "id": "ac913294",
   "metadata": {},
   "outputs": [
    {
     "data": {
      "text/plain": [
       "7.4"
      ]
     },
     "execution_count": 21,
     "metadata": {},
     "output_type": "execute_result"
    }
   ],
   "source": [
    "op_merged['prices'].median()"
   ]
  },
  {
   "cell_type": "code",
   "execution_count": 23,
   "id": "343ba4bc",
   "metadata": {},
   "outputs": [
    {
     "data": {
      "text/plain": [
       "99999.0"
      ]
     },
     "execution_count": 23,
     "metadata": {},
     "output_type": "execute_result"
    }
   ],
   "source": [
    "op_merged['prices'].max()"
   ]
  },
  {
   "cell_type": "code",
   "execution_count": 24,
   "id": "3bfc5c28",
   "metadata": {},
   "outputs": [
    {
     "data": {
      "text/plain": [
       "<Axes: xlabel='prices', ylabel='prices'>"
      ]
     },
     "execution_count": 24,
     "metadata": {},
     "output_type": "execute_result"
    },
    {
     "data": {
      "image/png": "[encoded data removed]",
      "text/plain": [
       "<Figure size 640x480 with 1 Axes>"
      ]
     },
     "metadata": {},
     "output_type": "display_data"
    }
   ],
   "source": [
    "#Viewing the above mean, median and max in a scatterplot\n",
    "\n",
    "sns.scatterplot(x = 'prices', y = 'prices', data = op_merged)"
   ]
  },
  {
   "cell_type": "code",
   "execution_count": 26,
   "id": "bb63791e",
   "metadata": {},
   "outputs": [
    {
     "data": {
      "text/html": [
       "<div>\n",
       "<style scoped>\n",
       "    .dataframe tbody tr th:only-of-type {\n",
       "        vertical-align: middle;\n",
       "    }\n",
       "\n",
       "    .dataframe tbody tr th {\n",
       "        vertical-align: top;\n",
       "    }\n",
       "\n",
       "    .dataframe thead th {\n",
       "        text-align: right;\n",
       "    }\n",
       "</style>\n",
       "<table border=\"1\" class=\"dataframe\">\n",
       "  <thead>\n",
       "    <tr style=\"text-align: right;\">\n",
       "      <th></th>\n",
       "      <th>Unnamed: 0.1</th>\n",
       "      <th>Unnamed: 0_x</th>\n",
       "      <th>order_id</th>\n",
       "      <th>user_id</th>\n",
       "      <th>order_number</th>\n",
       "      <th>orders_day_of_week</th>\n",
       "      <th>order_hour_of_day</th>\n",
       "      <th>days_since_prior_order</th>\n",
       "      <th>product_id</th>\n",
       "      <th>add_to_cart_order</th>\n",
       "      <th>...</th>\n",
       "      <th>price_range_loc</th>\n",
       "      <th>busiest_day</th>\n",
       "      <th>busiest_days</th>\n",
       "      <th>busiest_period_of_day</th>\n",
       "      <th>max_order</th>\n",
       "      <th>loyalty_flag</th>\n",
       "      <th>mean_product_price</th>\n",
       "      <th>spender_flag</th>\n",
       "      <th>Customer_frequency</th>\n",
       "      <th>frequency_flag</th>\n",
       "    </tr>\n",
       "  </thead>\n",
       "  <tbody>\n",
       "    <tr>\n",
       "      <th>10030345</th>\n",
       "      <td>171</td>\n",
       "      <td>171</td>\n",
       "      <td>912404</td>\n",
       "      <td>17</td>\n",
       "      <td>12</td>\n",
       "      <td>2</td>\n",
       "      <td>14</td>\n",
       "      <td>5.0</td>\n",
       "      <td>21553</td>\n",
       "      <td>5</td>\n",
       "      <td>...</td>\n",
       "      <td>Medium Range Product</td>\n",
       "      <td>Regularly busy</td>\n",
       "      <td>Regularly busy days</td>\n",
       "      <td>Most Orders</td>\n",
       "      <td>40</td>\n",
       "      <td>Regular Customer</td>\n",
       "      <td>108.648299</td>\n",
       "      <td>High</td>\n",
       "      <td>5.0</td>\n",
       "      <td>Frequent</td>\n",
       "    </tr>\n",
       "    <tr>\n",
       "      <th>10030346</th>\n",
       "      <td>181</td>\n",
       "      <td>181</td>\n",
       "      <td>603376</td>\n",
       "      <td>17</td>\n",
       "      <td>22</td>\n",
       "      <td>6</td>\n",
       "      <td>16</td>\n",
       "      <td>4.0</td>\n",
       "      <td>21553</td>\n",
       "      <td>3</td>\n",
       "      <td>...</td>\n",
       "      <td>Medium Range Product</td>\n",
       "      <td>Regularly busy</td>\n",
       "      <td>Regularly busy days</td>\n",
       "      <td>Most Orders</td>\n",
       "      <td>40</td>\n",
       "      <td>Regular Customer</td>\n",
       "      <td>108.648299</td>\n",
       "      <td>High</td>\n",
       "      <td>5.0</td>\n",
       "      <td>Frequent</td>\n",
       "    </tr>\n",
       "    <tr>\n",
       "      <th>10030347</th>\n",
       "      <td>1944</td>\n",
       "      <td>1944</td>\n",
       "      <td>3264360</td>\n",
       "      <td>135</td>\n",
       "      <td>2</td>\n",
       "      <td>2</td>\n",
       "      <td>21</td>\n",
       "      <td>13.0</td>\n",
       "      <td>21553</td>\n",
       "      <td>6</td>\n",
       "      <td>...</td>\n",
       "      <td>Medium Range Product</td>\n",
       "      <td>Regularly busy</td>\n",
       "      <td>Regularly busy days</td>\n",
       "      <td>Average Orders</td>\n",
       "      <td>4</td>\n",
       "      <td>New Customer</td>\n",
       "      <td>1154.792308</td>\n",
       "      <td>High</td>\n",
       "      <td>12.0</td>\n",
       "      <td>Regular</td>\n",
       "    </tr>\n",
       "    <tr>\n",
       "      <th>10030348</th>\n",
       "      <td>1945</td>\n",
       "      <td>1945</td>\n",
       "      <td>892534</td>\n",
       "      <td>135</td>\n",
       "      <td>3</td>\n",
       "      <td>0</td>\n",
       "      <td>8</td>\n",
       "      <td>12.0</td>\n",
       "      <td>21553</td>\n",
       "      <td>3</td>\n",
       "      <td>...</td>\n",
       "      <td>Medium Range Product</td>\n",
       "      <td>Busiest day</td>\n",
       "      <td>Busiest days</td>\n",
       "      <td>Average Orders</td>\n",
       "      <td>4</td>\n",
       "      <td>New Customer</td>\n",
       "      <td>1154.792308</td>\n",
       "      <td>High</td>\n",
       "      <td>12.0</td>\n",
       "      <td>Regular</td>\n",
       "    </tr>\n",
       "    <tr>\n",
       "      <th>10030349</th>\n",
       "      <td>5708</td>\n",
       "      <td>5708</td>\n",
       "      <td>229704</td>\n",
       "      <td>342</td>\n",
       "      <td>8</td>\n",
       "      <td>1</td>\n",
       "      <td>19</td>\n",
       "      <td>30.0</td>\n",
       "      <td>21553</td>\n",
       "      <td>9</td>\n",
       "      <td>...</td>\n",
       "      <td>Medium Range Product</td>\n",
       "      <td>Regularly busy</td>\n",
       "      <td>Busiest days</td>\n",
       "      <td>Average Orders</td>\n",
       "      <td>16</td>\n",
       "      <td>Regular Customer</td>\n",
       "      <td>114.426619</td>\n",
       "      <td>High</td>\n",
       "      <td>23.0</td>\n",
       "      <td>Non-Frequent</td>\n",
       "    </tr>\n",
       "    <tr>\n",
       "      <th>...</th>\n",
       "      <td>...</td>\n",
       "      <td>...</td>\n",
       "      <td>...</td>\n",
       "      <td>...</td>\n",
       "      <td>...</td>\n",
       "      <td>...</td>\n",
       "      <td>...</td>\n",
       "      <td>...</td>\n",
       "      <td>...</td>\n",
       "      <td>...</td>\n",
       "      <td>...</td>\n",
       "      <td>...</td>\n",
       "      <td>...</td>\n",
       "      <td>...</td>\n",
       "      <td>...</td>\n",
       "      <td>...</td>\n",
       "      <td>...</td>\n",
       "      <td>...</td>\n",
       "      <td>...</td>\n",
       "      <td>...</td>\n",
       "      <td>...</td>\n",
       "    </tr>\n",
       "    <tr>\n",
       "      <th>29166209</th>\n",
       "      <td>3386542</td>\n",
       "      <td>3386542</td>\n",
       "      <td>2249946</td>\n",
       "      <td>204099</td>\n",
       "      <td>29</td>\n",
       "      <td>0</td>\n",
       "      <td>8</td>\n",
       "      <td>4.0</td>\n",
       "      <td>33664</td>\n",
       "      <td>1</td>\n",
       "      <td>...</td>\n",
       "      <td>Medium Range Product</td>\n",
       "      <td>Busiest day</td>\n",
       "      <td>Busiest days</td>\n",
       "      <td>Average Orders</td>\n",
       "      <td>39</td>\n",
       "      <td>Regular Customer</td>\n",
       "      <td>1106.743956</td>\n",
       "      <td>High</td>\n",
       "      <td>4.0</td>\n",
       "      <td>Frequent</td>\n",
       "    </tr>\n",
       "    <tr>\n",
       "      <th>29166210</th>\n",
       "      <td>3386544</td>\n",
       "      <td>3386544</td>\n",
       "      <td>2363282</td>\n",
       "      <td>204099</td>\n",
       "      <td>31</td>\n",
       "      <td>0</td>\n",
       "      <td>9</td>\n",
       "      <td>2.0</td>\n",
       "      <td>33664</td>\n",
       "      <td>1</td>\n",
       "      <td>...</td>\n",
       "      <td>Medium Range Product</td>\n",
       "      <td>Busiest day</td>\n",
       "      <td>Busiest days</td>\n",
       "      <td>Most Orders</td>\n",
       "      <td>39</td>\n",
       "      <td>Regular Customer</td>\n",
       "      <td>1106.743956</td>\n",
       "      <td>High</td>\n",
       "      <td>4.0</td>\n",
       "      <td>Frequent</td>\n",
       "    </tr>\n",
       "    <tr>\n",
       "      <th>29166211</th>\n",
       "      <td>3391313</td>\n",
       "      <td>3391313</td>\n",
       "      <td>3181945</td>\n",
       "      <td>204395</td>\n",
       "      <td>13</td>\n",
       "      <td>3</td>\n",
       "      <td>15</td>\n",
       "      <td>8.0</td>\n",
       "      <td>33664</td>\n",
       "      <td>25</td>\n",
       "      <td>...</td>\n",
       "      <td>Medium Range Product</td>\n",
       "      <td>Regularly busy</td>\n",
       "      <td>Least busiest days</td>\n",
       "      <td>Most Orders</td>\n",
       "      <td>15</td>\n",
       "      <td>Regular Customer</td>\n",
       "      <td>451.153540</td>\n",
       "      <td>High</td>\n",
       "      <td>5.0</td>\n",
       "      <td>Frequent</td>\n",
       "    </tr>\n",
       "    <tr>\n",
       "      <th>29166212</th>\n",
       "      <td>3405096</td>\n",
       "      <td>3405096</td>\n",
       "      <td>2486215</td>\n",
       "      <td>205227</td>\n",
       "      <td>7</td>\n",
       "      <td>3</td>\n",
       "      <td>20</td>\n",
       "      <td>4.0</td>\n",
       "      <td>33664</td>\n",
       "      <td>8</td>\n",
       "      <td>...</td>\n",
       "      <td>Medium Range Product</td>\n",
       "      <td>Regularly busy</td>\n",
       "      <td>Least busiest days</td>\n",
       "      <td>Average Orders</td>\n",
       "      <td>12</td>\n",
       "      <td>Regular Customer</td>\n",
       "      <td>1178.381871</td>\n",
       "      <td>High</td>\n",
       "      <td>12.0</td>\n",
       "      <td>Regular</td>\n",
       "    </tr>\n",
       "    <tr>\n",
       "      <th>29166213</th>\n",
       "      <td>3405099</td>\n",
       "      <td>3405099</td>\n",
       "      <td>2232716</td>\n",
       "      <td>205227</td>\n",
       "      <td>10</td>\n",
       "      <td>0</td>\n",
       "      <td>11</td>\n",
       "      <td>4.0</td>\n",
       "      <td>33664</td>\n",
       "      <td>23</td>\n",
       "      <td>...</td>\n",
       "      <td>Medium Range Product</td>\n",
       "      <td>Busiest day</td>\n",
       "      <td>Busiest days</td>\n",
       "      <td>Most Orders</td>\n",
       "      <td>12</td>\n",
       "      <td>Regular Customer</td>\n",
       "      <td>1178.381871</td>\n",
       "      <td>High</td>\n",
       "      <td>12.0</td>\n",
       "      <td>Regular</td>\n",
       "    </tr>\n",
       "  </tbody>\n",
       "</table>\n",
       "<p>5127 rows × 28 columns</p>\n",
       "</div>"
      ],
      "text/plain": [
       "          Unnamed: 0.1  Unnamed: 0_x  order_id  user_id  order_number  \\\n",
       "10030345           171           171    912404       17            12   \n",
       "10030346           181           181    603376       17            22   \n",
       "10030347          1944          1944   3264360      135             2   \n",
       "10030348          1945          1945    892534      135             3   \n",
       "10030349          5708          5708    229704      342             8   \n",
       "...                ...           ...       ...      ...           ...   \n",
       "29166209       3386542       3386542   2249946   204099            29   \n",
       "29166210       3386544       3386544   2363282   204099            31   \n",
       "29166211       3391313       3391313   3181945   204395            13   \n",
       "29166212       3405096       3405096   2486215   205227             7   \n",
       "29166213       3405099       3405099   2232716   205227            10   \n",
       "\n",
       "          orders_day_of_week  order_hour_of_day  days_since_prior_order  \\\n",
       "10030345                   2                 14                     5.0   \n",
       "10030346                   6                 16                     4.0   \n",
       "10030347                   2                 21                    13.0   \n",
       "10030348                   0                  8                    12.0   \n",
       "10030349                   1                 19                    30.0   \n",
       "...                      ...                ...                     ...   \n",
       "29166209                   0                  8                     4.0   \n",
       "29166210                   0                  9                     2.0   \n",
       "29166211                   3                 15                     8.0   \n",
       "29166212                   3                 20                     4.0   \n",
       "29166213                   0                 11                     4.0   \n",
       "\n",
       "          product_id  add_to_cart_order  ...       price_range_loc  \\\n",
       "10030345       21553                  5  ...  Medium Range Product   \n",
       "10030346       21553                  3  ...  Medium Range Product   \n",
       "10030347       21553                  6  ...  Medium Range Product   \n",
       "10030348       21553                  3  ...  Medium Range Product   \n",
       "10030349       21553                  9  ...  Medium Range Product   \n",
       "...              ...                ...  ...                   ...   \n",
       "29166209       33664                  1  ...  Medium Range Product   \n",
       "29166210       33664                  1  ...  Medium Range Product   \n",
       "29166211       33664                 25  ...  Medium Range Product   \n",
       "29166212       33664                  8  ...  Medium Range Product   \n",
       "29166213       33664                 23  ...  Medium Range Product   \n",
       "\n",
       "             busiest_day         busiest_days busiest_period_of_day  \\\n",
       "10030345  Regularly busy  Regularly busy days           Most Orders   \n",
       "10030346  Regularly busy  Regularly busy days           Most Orders   \n",
       "10030347  Regularly busy  Regularly busy days        Average Orders   \n",
       "10030348     Busiest day         Busiest days        Average Orders   \n",
       "10030349  Regularly busy         Busiest days        Average Orders   \n",
       "...                  ...                  ...                   ...   \n",
       "29166209     Busiest day         Busiest days        Average Orders   \n",
       "29166210     Busiest day         Busiest days           Most Orders   \n",
       "29166211  Regularly busy   Least busiest days           Most Orders   \n",
       "29166212  Regularly busy   Least busiest days        Average Orders   \n",
       "29166213     Busiest day         Busiest days           Most Orders   \n",
       "\n",
       "          max_order      loyalty_flag  mean_product_price spender_flag  \\\n",
       "10030345         40  Regular Customer          108.648299         High   \n",
       "10030346         40  Regular Customer          108.648299         High   \n",
       "10030347          4      New Customer         1154.792308         High   \n",
       "10030348          4      New Customer         1154.792308         High   \n",
       "10030349         16  Regular Customer          114.426619         High   \n",
       "...             ...               ...                 ...          ...   \n",
       "29166209         39  Regular Customer         1106.743956         High   \n",
       "29166210         39  Regular Customer         1106.743956         High   \n",
       "29166211         15  Regular Customer          451.153540         High   \n",
       "29166212         12  Regular Customer         1178.381871         High   \n",
       "29166213         12  Regular Customer         1178.381871         High   \n",
       "\n",
       "         Customer_frequency frequency_flag  \n",
       "10030345                5.0       Frequent  \n",
       "10030346                5.0       Frequent  \n",
       "10030347               12.0        Regular  \n",
       "10030348               12.0        Regular  \n",
       "10030349               23.0   Non-Frequent  \n",
       "...                     ...            ...  \n",
       "29166209                4.0       Frequent  \n",
       "29166210                4.0       Frequent  \n",
       "29166211                5.0       Frequent  \n",
       "29166212               12.0        Regular  \n",
       "29166213               12.0        Regular  \n",
       "\n",
       "[5127 rows x 28 columns]"
      ]
     },
     "execution_count": 26,
     "metadata": {},
     "output_type": "execute_result"
    }
   ],
   "source": [
    "#Locate and show all lines with prices over 100.\n",
    "\n",
    "op_merged.loc[op_merged['prices'] >100]"
   ]
  },
  {
   "cell_type": "code",
   "execution_count": 29,
   "id": "1219e157",
   "metadata": {},
   "outputs": [],
   "source": [
    "#Assign value of 'nan' to anything above 100.\n",
    "\n",
    "op_merged.loc[op_merged['prices'] > 100, 'prices'] = np.nan"
   ]
  },
  {
   "cell_type": "code",
   "execution_count": 31,
   "id": "32696a41",
   "metadata": {
    "scrolled": true
   },
   "outputs": [
    {
     "data": {
      "text/plain": [
       "25.0"
      ]
     },
     "execution_count": 31,
     "metadata": {},
     "output_type": "execute_result"
    }
   ],
   "source": [
    "#Checking what max price is now in the price column.\n",
    "\n",
    "op_merged['prices'].max()"
   ]
  },
  {
   "cell_type": "code",
   "execution_count": 46,
   "id": "38f503dc",
   "metadata": {},
   "outputs": [
    {
     "data": {
      "image/png": "[encoded data removed]",
      "text/plain": [
       "<Figure size 640x480 with 1 Axes>"
      ]
     },
     "metadata": {},
     "output_type": "display_data"
    }
   ],
   "source": [
    "#Prices scatterplot\n",
    "\n",
    "scatter = sns.scatterplot(x = 'prices', y = 'prices', data = op_merged)"
   ]
  },
  {
   "cell_type": "code",
   "execution_count": 47,
   "id": "9341f727",
   "metadata": {},
   "outputs": [],
   "source": [
    "scatter.figure.savefig(os.path.join(path, '04 - Analysis', 'Visualizations', 'price_scatterplot.png'))"
   ]
  },
  {
   "cell_type": "code",
   "execution_count": 32,
   "id": "32c887d9",
   "metadata": {},
   "outputs": [
    {
     "data": {
      "image/png": "[encoded data removed]",
      "text/plain": [
       "<Figure size 640x480 with 1 Axes>"
      ]
     },
     "metadata": {},
     "output_type": "display_data"
    }
   ],
   "source": [
    "#Creating a histogram for Prices.\n",
    "\n",
    "hist = op_merged['prices'].plot.hist(bins=25)"
   ]
  },
  {
   "cell_type": "code",
   "execution_count": 33,
   "id": "db88ecb2",
   "metadata": {},
   "outputs": [
    {
     "data": {
      "image/png": "[encoded data removed]",
      "text/plain": [
       "<Figure size 640x480 with 1 Axes>"
      ]
     },
     "metadata": {},
     "output_type": "display_data"
    }
   ],
   "source": [
    "# Creating histogram but with smaller bars.\n",
    "hist_2 = op_merged['prices'].plot.hist(bins=75)"
   ]
  },
  {
   "cell_type": "code",
   "execution_count": 34,
   "id": "89e8a32f",
   "metadata": {},
   "outputs": [],
   "source": [
    "hist_2.figure.savefig(os.path.join(path, '04 - Analysis', 'Visualizations', 'prices_histogram.png'))"
   ]
  },
  {
   "cell_type": "markdown",
   "id": "7f823de2",
   "metadata": {},
   "source": [
    "# Creating a Line Chart from a Sample of Data."
   ]
  },
  {
   "cell_type": "code",
   "execution_count": 37,
   "id": "59470297",
   "metadata": {},
   "outputs": [],
   "source": [
    "np.random.seed(4)\n",
    "\n",
    "#Create a list holding true/false value the length of or op_merged dataframe.\n",
    "dev = np.random.rand(len(op_merged)) <= 0.7"
   ]
  },
  {
   "cell_type": "code",
   "execution_count": 38,
   "id": "a04f3e94",
   "metadata": {},
   "outputs": [
    {
     "data": {
      "text/plain": [
       "array([False,  True, False, ...,  True,  True,  True])"
      ]
     },
     "execution_count": 38,
     "metadata": {},
     "output_type": "execute_result"
    }
   ],
   "source": [
    "dev"
   ]
  },
  {
   "cell_type": "code",
   "execution_count": 39,
   "id": "9250558c",
   "metadata": {},
   "outputs": [],
   "source": [
    "#Store 70% of sample in the dataframe big\n",
    "\n",
    "big = op_merged[dev]\n",
    "\n",
    "#Store 30% of sample in the dataframe small\n",
    "small = op_merged[~dev]"
   ]
  },
  {
   "cell_type": "code",
   "execution_count": 40,
   "id": "f9d1f9ac",
   "metadata": {},
   "outputs": [
    {
     "data": {
      "text/plain": [
       "32404859"
      ]
     },
     "execution_count": 40,
     "metadata": {},
     "output_type": "execute_result"
    }
   ],
   "source": [
    "#Checking length of original data frame\n",
    "len(op_merged)"
   ]
  },
  {
   "cell_type": "code",
   "execution_count": 41,
   "id": "b4d46b79",
   "metadata": {},
   "outputs": [
    {
     "data": {
      "text/plain": [
       "32404859"
      ]
     },
     "execution_count": 41,
     "metadata": {},
     "output_type": "execute_result"
    }
   ],
   "source": [
    "#checking length of big and small dataframes.\n",
    "len(big) + len(small)"
   ]
  },
  {
   "cell_type": "code",
   "execution_count": 43,
   "id": "52fbb74b",
   "metadata": {},
   "outputs": [],
   "source": [
    "df_2 = small[['orders_day_of_week','prices']]"
   ]
  },
  {
   "cell_type": "code",
   "execution_count": 44,
   "id": "acae4de9",
   "metadata": {},
   "outputs": [
    {
     "name": "stderr",
     "output_type": "stream",
     "text": [
      "G:\\Anaconda\\Lib\\site-packages\\seaborn\\_oldcore.py:1119: FutureWarning: use_inf_as_na option is deprecated and will be removed in a future version. Convert inf values to NaN before operating instead.\n",
      "  with pd.option_context('mode.use_inf_as_na', True):\n",
      "G:\\Anaconda\\Lib\\site-packages\\seaborn\\_oldcore.py:1119: FutureWarning: use_inf_as_na option is deprecated and will be removed in a future version. Convert inf values to NaN before operating instead.\n",
      "  with pd.option_context('mode.use_inf_as_na', True):\n"
     ]
    },
    {
     "data": {
      "image/png": "[encoded data removed]",
      "text/plain": [
       "<Figure size 640x480 with 1 Axes>"
      ]
     },
     "metadata": {},
     "output_type": "display_data"
    }
   ],
   "source": [
    "line = sns.lineplot(data = df_2, x = 'orders_day_of_week', y = 'prices')"
   ]
  },
  {
   "cell_type": "code",
   "execution_count": 45,
   "id": "9a057878",
   "metadata": {},
   "outputs": [],
   "source": [
    "line.figure.savefig(os.path.join(path, '04 - Analysis', 'Visualizations', 'line_prices_dow.png'))"
   ]
  },
  {
   "cell_type": "code",
   "execution_count": null,
   "id": "67e3ca54",
   "metadata": {},
   "outputs": [],
   "source": []
  }
 ],
 "metadata": {
  "kernelspec": {
   "display_name": "Python 3 (ipykernel)",
   "language": "python",
   "name": "python3"
  },
  "language_info": {
   "codemirror_mode": {
    "name": "ipython",
    "version": 3
   },
   "file_extension": ".py",
   "mimetype": "text/x-python",
   "name": "python",
   "nbconvert_exporter": "python",
   "pygments_lexer": "ipython3",
   "version": "3.11.5"
  }
 },
 "nbformat": 4,
 "nbformat_minor": 5
}
